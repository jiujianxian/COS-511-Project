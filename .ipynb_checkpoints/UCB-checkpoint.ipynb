{
 "cells": [
  {
   "cell_type": "code",
   "execution_count": 1,
   "metadata": {},
   "outputs": [],
   "source": [
    "from random import shuffle\n",
    "import pandas as pd\n",
    "import numpy as np"
   ]
  },
  {
   "cell_type": "code",
   "execution_count": 2,
   "metadata": {},
   "outputs": [],
   "source": [
    "fortune_500 = pd.read_csv(\"stocks/top_10_market_cap.csv\")"
   ]
  },
  {
   "cell_type": "code",
   "execution_count": 3,
   "metadata": {},
   "outputs": [],
   "source": [
    "def single_day_reward(stocktable, name, day, amountToInvest = 1.0):\n",
    "    if name == \"brk\":\n",
    "        name = \"brk-a\"\n",
    "    openPrice = stocktable[name+\"-open\"][day]\n",
    "    closePrice = stocktable[name+\"-close\"][day]\n",
    "    sharesBought = amountToInvest / openPrice\n",
    "    amountAfterSale = sharesBought * closePrice\n",
    " \n",
    "    return amountAfterSale - amountToInvest"
   ]
  },
  {
   "cell_type": "code",
   "execution_count": 4,
   "metadata": {},
   "outputs": [],
   "source": [
    "def best_action_reward(stocks,  iterations, amountToInvest = 1.0):\n",
    "    max_reward = -100000\n",
    "    best_stock = \"\"\n",
    "    stocks_columns = list(stocks.keys()[1:])\n",
    "    stock_names = [name.split('-')[0] for name in stocks_columns]\n",
    "    stock_names = list(set(stock_names))\n",
    "    for name in stock_names:\n",
    "        reward = 0\n",
    "        if name == \"brk\":\n",
    "            name = \"brk-a\"\n",
    "        for i in range(0,iterations):\n",
    "            reward += single_day_reward(stocks, name, i)\n",
    "        if reward > max_reward:\n",
    "            max_reward = reward\n",
    "            best_stock = name\n",
    "    return max_reward, best_stock"
   ]
  },
  {
   "cell_type": "code",
   "execution_count": 5,
   "metadata": {},
   "outputs": [],
   "source": [
    "def ucb1(stocks, iterations):\n",
    "    cumulative_reward = [0]\n",
    "    best_action_cumulative_reward = 0\n",
    "    stocks_columns = list(stocks.keys()[1:])\n",
    "    stock_names = [name.split('-')[0] for name in stocks_columns]\n",
    "    stock_names = list(set(stock_names))\n",
    "    num_actions = np.zeros(len(stock_names))\n",
    "    total_reward = np.zeros(len(stock_names))\n",
    "    average_reward = np.zeros(len(stock_names))\n",
    "    # Play each action once\n",
    "    for i in range(0,iterations):\n",
    "        if (i < len(stock_names)):\n",
    "            name = stock_names[i]\n",
    "            if name == \"brk\":\n",
    "                name = \"brk-a\"\n",
    "            reward = single_day_reward(stocks, name, i)\n",
    "            cumulative_reward.append(cumulative_reward[i]+reward)\n",
    "            average_reward[i] += reward\n",
    "            total_reward[i] += reward\n",
    "            num_actions[i] += 1\n",
    "        else:\n",
    "            max_idx = np.argmax(average_reward)\n",
    "            name = stock_names[max_idx]\n",
    "            if name == \"brk\":\n",
    "                name = \"brk-a\"\n",
    "            reward = single_day_reward(stocks, name, i)\n",
    "            cumulative_reward.append(cumulative_reward[i]+reward)\n",
    "            total_reward[max_idx] += reward\n",
    "            num_actions[max_idx] += 1\n",
    "            average_reward = total_reward / num_actions\n",
    "    return cumulative_reward, best_action_reward(stocks,  iterations)\n",
    "            "
   ]
  },
  {
   "cell_type": "code",
   "execution_count": 9,
   "metadata": {},
   "outputs": [],
   "source": [
    "test = np.array([1,2,3,4,5])\n",
    "divident = np.array([2,3,4,5,6])"
   ]
  },
  {
   "cell_type": "code",
   "execution_count": 10,
   "metadata": {},
   "outputs": [
    {
     "data": {
      "text/plain": [
       "array([0.5       , 0.66666667, 0.75      , 0.8       , 0.83333333])"
      ]
     },
     "execution_count": 10,
     "metadata": {},
     "output_type": "execute_result"
    }
   ],
   "source": [
    "test/divident"
   ]
  },
  {
   "cell_type": "code",
   "execution_count": null,
   "metadata": {},
   "outputs": [],
   "source": []
  }
 ],
 "metadata": {
  "kernelspec": {
   "display_name": "Python 3",
   "language": "python",
   "name": "python3"
  },
  "language_info": {
   "codemirror_mode": {
    "name": "ipython",
    "version": 3
   },
   "file_extension": ".py",
   "mimetype": "text/x-python",
   "name": "python",
   "nbconvert_exporter": "python",
   "pygments_lexer": "ipython3",
   "version": "3.6.0"
  }
 },
 "nbformat": 4,
 "nbformat_minor": 2
}
